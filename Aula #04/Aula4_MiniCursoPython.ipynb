{
  "nbformat": 4,
  "nbformat_minor": 0,
  "metadata": {
    "colab": {
      "provenance": []
    },
    "kernelspec": {
      "name": "python3",
      "display_name": "Python 3"
    },
    "language_info": {
      "name": "python"
    }
  },
  "cells": [
    {
      "cell_type": "markdown",
      "source": [
        "# Fundamentos Biblioteca NLTK"
      ],
      "metadata": {
        "id": "sXMxHEdUubn8"
      }
    },
    {
      "cell_type": "code",
      "execution_count": null,
      "metadata": {
        "colab": {
          "base_uri": "https://localhost:8080/"
        },
        "id": "fD7Upx5NVUd3",
        "outputId": "8347379b-b9e9-4c06-bd66-cd17c3a6309d"
      },
      "outputs": [
        {
          "output_type": "stream",
          "name": "stderr",
          "text": [
            "[nltk_data] Downloading package punkt to /root/nltk_data...\n",
            "[nltk_data]   Unzipping tokenizers/punkt.zip.\n"
          ]
        },
        {
          "output_type": "execute_result",
          "data": {
            "text/plain": [
              "True"
            ]
          },
          "metadata": {},
          "execution_count": 1
        }
      ],
      "source": [
        "import nltk\n",
        "nltk.download('punkt')"
      ]
    },
    {
      "cell_type": "code",
      "source": [
        "texto = \"A tecnologia está em constante evolução, moldando nosso mundo de maneiras incríveis. Desde smartphones que mantêm o mundo na palma da mão até avanços na inteligência artificial que revolucionam indústrias inteiras, a inovação tecnológica continua a surpreender e melhorar nossas vidas. À medida que avançamos, é importante abraçar essas mudanças e explorar como a tecnologia pode nos levar a um futuro mais promissor e conectado.\""
      ],
      "metadata": {
        "id": "4SACGL2EVj_e"
      },
      "execution_count": null,
      "outputs": []
    },
    {
      "cell_type": "code",
      "source": [
        "frases = nltk.tokenize.sent_tokenize(texto,language=\"portuguese\")\n",
        "print(frases)"
      ],
      "metadata": {
        "colab": {
          "base_uri": "https://localhost:8080/"
        },
        "id": "vftWS9ttVor4",
        "outputId": "a0ea6e4a-c4dd-49a6-c051-20a11042a2f6"
      },
      "execution_count": null,
      "outputs": [
        {
          "output_type": "stream",
          "name": "stdout",
          "text": [
            "['A tecnologia está em constante evolução, moldando nosso mundo de maneiras incríveis.', 'Desde smartphones que mantêm o mundo na palma da mão até avanços na inteligência artificial que revolucionam indústrias inteiras, a inovação tecnológica continua a surpreender e melhorar nossas vidas.', 'À medida que avançamos, é importante abraçar essas mudanças e explorar como a tecnologia pode nos levar a um futuro mais promissor e conectado.']\n"
          ]
        }
      ]
    },
    {
      "cell_type": "markdown",
      "source": [
        "## Pré-processamento de strings"
      ],
      "metadata": {
        "id": "kX0olD1Quk-T"
      }
    },
    {
      "cell_type": "code",
      "source": [
        "import string\n",
        "\n",
        "nltk.download('stopwords')\n",
        "stopwords = nltk.corpus.stopwords.words(\"portuguese\")\n",
        "\n",
        "pontuacoes = string.punctuation\n",
        "\n",
        "#LISTA DE PALAVRAS\n",
        "tokens = []\n",
        "\n",
        "#PARA CADA PALAVRA QUE FOR RETORNADA DA FUNCAO\n",
        "#TRANSFORMO PARA CAIXA BAIXA\n",
        "#SE A PALAVRA ATUAL NAO FOR UM PALAVRA VAZIA E UMA PONTUACAO\n",
        "#ADICIONO A LISTA\n",
        "for token in nltk.word_tokenize(texto):\n",
        "  token = token.lower()\n",
        "  if token not in stopwords and token not in pontuacoes:\n",
        "    tokens.append(token)\n",
        "print(tokens)"
      ],
      "metadata": {
        "colab": {
          "base_uri": "https://localhost:8080/"
        },
        "id": "3hf4NI0jVzlY",
        "outputId": "3a10f7de-a13b-41d2-8e40-18b4a09fcef9"
      },
      "execution_count": null,
      "outputs": [
        {
          "output_type": "stream",
          "name": "stdout",
          "text": [
            "['tecnologia', 'constante', 'evolução', 'moldando', 'mundo', 'maneiras', 'incríveis', 'desde', 'smartphones', 'mantêm', 'mundo', 'palma', 'mão', 'avanços', 'inteligência', 'artificial', 'revolucionam', 'indústrias', 'inteiras', 'inovação', 'tecnológica', 'continua', 'surpreender', 'melhorar', 'vidas', 'medida', 'avançamos', 'importante', 'abraçar', 'mudanças', 'explorar', 'tecnologia', 'pode', 'levar', 'futuro', 'promissor', 'conectado']\n"
          ]
        },
        {
          "output_type": "stream",
          "name": "stderr",
          "text": [
            "[nltk_data] Downloading package stopwords to /root/nltk_data...\n",
            "[nltk_data]   Unzipping corpora/stopwords.zip.\n"
          ]
        }
      ]
    },
    {
      "cell_type": "code",
      "source": [
        "#TRANSFORMANDO EM UMA FUNCAO\n",
        "def preproces(texto):\n",
        "  tokens = []\n",
        "  for token in nltk.word_tokenize(texto):\n",
        "    token = token.lower()\n",
        "    if token not in stopwords and token not in pontuacoes:\n",
        "      tokens.append(token)\n",
        "  return tokens"
      ],
      "metadata": {
        "id": "1TxuApE3V4sP"
      },
      "execution_count": null,
      "outputs": []
    },
    {
      "cell_type": "code",
      "source": [
        "tokens = preproces(texto)\n",
        "print(tokens)"
      ],
      "metadata": {
        "colab": {
          "base_uri": "https://localhost:8080/"
        },
        "id": "vEONdJBXV7Ee",
        "outputId": "d767c85b-964b-4c6d-f694-44b787f7ce92"
      },
      "execution_count": null,
      "outputs": [
        {
          "output_type": "stream",
          "name": "stdout",
          "text": [
            "['tecnologia', 'constante', 'evolução', 'moldando', 'mundo', 'maneiras', 'incríveis', 'desde', 'smartphones', 'mantêm', 'mundo', 'palma', 'mão', 'avanços', 'inteligência', 'artificial', 'revolucionam', 'indústrias', 'inteiras', 'inovação', 'tecnológica', 'continua', 'surpreender', 'melhorar', 'vidas', 'medida', 'avançamos', 'importante', 'abraçar', 'mudanças', 'explorar', 'tecnologia', 'pode', 'levar', 'futuro', 'promissor', 'conectado']\n"
          ]
        }
      ]
    },
    {
      "cell_type": "markdown",
      "source": [
        "# Analise Morfologica"
      ],
      "metadata": {
        "id": "3moLPwdDusr7"
      }
    },
    {
      "cell_type": "code",
      "source": [
        "import nltk\n",
        "nltk.download('averaged_perceptron_tagger')\n",
        "\n",
        "\n",
        "#NLTK suporta apenas o ingles para analise morfologica\n",
        "text = \"Technology is constantly evolving, shaping our world in incredible ways. From smartphones that hold the world in the palm of our hands to advances in artificial intelligence revolutionizing entire industries, technological innovation continues to astonish and enhance our lives. As we progress, it's important to embrace these changes and explore how technology can lead us to a more promising and connected future.\"\n",
        "\n",
        "#Tokenizando\n",
        "tokens = nltk.word_tokenize(text)\n",
        "\n",
        "#Funcao para tags\n",
        "#https://www.ling.upenn.edu/courses/Fall_2003/ling001/penn_treebank_pos.html\n",
        "tags = nltk.pos_tag(tokens)\n",
        "print(tags)"
      ],
      "metadata": {
        "colab": {
          "base_uri": "https://localhost:8080/"
        },
        "id": "NVbFohbZV-KL",
        "outputId": "66b2bd55-4d1b-45eb-ebfb-ec620b5ec392"
      },
      "execution_count": null,
      "outputs": [
        {
          "output_type": "stream",
          "name": "stderr",
          "text": [
            "[nltk_data] Downloading package averaged_perceptron_tagger to\n",
            "[nltk_data]     /root/nltk_data...\n",
            "[nltk_data]   Unzipping taggers/averaged_perceptron_tagger.zip.\n"
          ]
        },
        {
          "output_type": "stream",
          "name": "stdout",
          "text": [
            "[('Technology', 'NN'), ('is', 'VBZ'), ('constantly', 'RB'), ('evolving', 'VBG'), (',', ','), ('shaping', 'VBG'), ('our', 'PRP$'), ('world', 'NN'), ('in', 'IN'), ('incredible', 'JJ'), ('ways', 'NNS'), ('.', '.'), ('From', 'IN'), ('smartphones', 'NNS'), ('that', 'WDT'), ('hold', 'VBP'), ('the', 'DT'), ('world', 'NN'), ('in', 'IN'), ('the', 'DT'), ('palm', 'NN'), ('of', 'IN'), ('our', 'PRP$'), ('hands', 'NNS'), ('to', 'TO'), ('advances', 'NNS'), ('in', 'IN'), ('artificial', 'JJ'), ('intelligence', 'NN'), ('revolutionizing', 'VBG'), ('entire', 'JJ'), ('industries', 'NNS'), (',', ','), ('technological', 'JJ'), ('innovation', 'NN'), ('continues', 'VBZ'), ('to', 'TO'), ('astonish', 'VB'), ('and', 'CC'), ('enhance', 'VB'), ('our', 'PRP$'), ('lives', 'NNS'), ('.', '.'), ('As', 'IN'), ('we', 'PRP'), ('progress', 'VBP'), (',', ','), ('it', 'PRP'), (\"'s\", 'VBZ'), ('important', 'JJ'), ('to', 'TO'), ('embrace', 'VB'), ('these', 'DT'), ('changes', 'NNS'), ('and', 'CC'), ('explore', 'VB'), ('how', 'WRB'), ('technology', 'NN'), ('can', 'MD'), ('lead', 'VB'), ('us', 'PRP'), ('to', 'TO'), ('a', 'DT'), ('more', 'RBR'), ('promising', 'JJ'), ('and', 'CC'), ('connected', 'JJ'), ('future', 'NN'), ('.', '.')]\n"
          ]
        }
      ]
    },
    {
      "cell_type": "code",
      "source": [
        "#Tratanto apenas os substantivos\n",
        "substantivos=[]\n",
        "for subs in tags:\n",
        "  if subs[1] in ['NN','NNS','NNP','NNPS']:\n",
        "    substantivos.append(subs[0])\n",
        "print(substantivos)"
      ],
      "metadata": {
        "colab": {
          "base_uri": "https://localhost:8080/"
        },
        "id": "NkKtrDi7WIrW",
        "outputId": "1ab1978a-653a-40d4-bc33-e260d9b04ff8"
      },
      "execution_count": null,
      "outputs": [
        {
          "output_type": "stream",
          "name": "stdout",
          "text": [
            "['Technology', 'world', 'ways', 'smartphones', 'world', 'palm', 'hands', 'advances', 'intelligence', 'industries', 'innovation', 'lives', 'changes', 'technology', 'future']\n"
          ]
        }
      ]
    }
  ]
}
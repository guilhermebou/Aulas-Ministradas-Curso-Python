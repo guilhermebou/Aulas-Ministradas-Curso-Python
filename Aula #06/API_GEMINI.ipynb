{
 "cells": [
  {
   "cell_type": "code",
   "execution_count": null,
   "metadata": {},
   "outputs": [],
   "source": [
    "import google.generativeai as genai\n",
    "API_KEY = ''\n",
    "\n",
    "genai.configure(api_key=API_KEY)\n",
    "model = genai.GenerativeModel('gemini-pro')\n",
    "\n",
    "# nome do usuário\n",
    "nome_do_usuario = input(\"Por favor, digite seu nome: \")\n",
    "\n",
    "# loop de conversas\n",
    "while True:\n",
    "    # mensagem do usuário\n",
    "    user_input = input(f\"{nome_do_usuario}: \")\n",
    "\n",
    "    # parada\n",
    "    if user_input.lower() == 'sair':\n",
    "        break\n",
    "\n",
    "    # prompt Gemini\n",
    "    prompt = f\"\"\"\n",
    "     voce é assistente virtual inteligente.\n",
    "    a pessoa se chama: {nome_do_usuario} e ela te perguntou: {user_input}\n",
    "    responda de forma completa e informativa.\n",
    "    \"\"\"\n",
    "    \n",
    "    # gerando resposta do Gemini\n",
    "    response = model.generate_content(prompt)\n",
    "\n",
    "    # resposta\n",
    "    print(f\"Gemini: {response.text}\")\n",
    "\n"
   ]
  }
 ],
 "metadata": {
  "language_info": {
   "name": "python"
  },
  "orig_nbformat": 4
 },
 "nbformat": 4,
 "nbformat_minor": 2
}

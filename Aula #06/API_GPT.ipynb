{
 "cells": [
  {
   "cell_type": "code",
   "execution_count": null,
   "metadata": {},
   "outputs": [],
   "source": [
    "import openai\n",
    "\n",
    "openai.api_key = ''\n",
    "\n",
    "\n",
    "nome_do_usuario = input(\"Por favor, digite seu nome: \")\n",
    "\n",
    "# loop chatbot\n",
    "while True:\n",
    "    # usuário mensagem\n",
    "    user_input = input(f\"{nome_do_usuario}: \")\n",
    "\n",
    "    # sair do loop\n",
    "    if user_input.lower() == 'sair':\n",
    "        break\n",
    "\n",
    "    # array de mensagens\n",
    "    messages = [\n",
    "        {\"role\": \"system\", \"content\": \"Você é um assistente útil.\"},\n",
    "        {\"role\": \"user\", \"content\": user_input}\n",
    "    ]\n",
    "\n",
    "    # prompt para o GPT-4\n",
    "    response = openai.ChatCompletion.create(\n",
    "        model = 'gpt-4-turbo',\n",
    "        messages=messages,\n",
    "        max_tokens=50\n",
    "    )\n",
    "\n",
    "    # do chatbot da resposta do GPT-4 e a exibe\n",
    "    chatbot_reply = response['choices'][0]['message']['content'].strip()\n",
    "    print(f\"ChatGPT: {chatbot_reply}\")\n"
   ]
  }
 ],
 "metadata": {
  "language_info": {
   "name": "python"
  },
  "orig_nbformat": 4
 },
 "nbformat": 4,
 "nbformat_minor": 2
}
